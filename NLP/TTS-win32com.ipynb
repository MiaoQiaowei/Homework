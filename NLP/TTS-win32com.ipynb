{
 "cells": [
  {
   "cell_type": "markdown",
   "metadata": {},
   "source": [
    "### https://blog.csdn.net/weixin_41494909/article/details/88384154"
   ]
  },
  {
   "cell_type": "code",
   "execution_count": 4,
   "metadata": {},
   "outputs": [],
   "source": [
    "import win32com.client as wincl\n",
    "from tkinter import *\n",
    "\n",
    "def text2Speech(): \n",
    "    text = e.get() \n",
    "    speak = wincl.Dispatch(\"SAPI.SpVoice\") \n",
    "    speak.Speak(text)"
   ]
  },
  {
   "cell_type": "code",
   "execution_count": 7,
   "metadata": {},
   "outputs": [],
   "source": [
    "#window configs\n",
    "tts = Tk()\n",
    "tts.wm_title(\"Text to Speech\")\n",
    "tts.geometry(\"600x400\")\n",
    "tts.config(background=\"#708090\")\n",
    "\n",
    "f=Frame(tts,height=600,width=800,bg=\"#bebebe\")\n",
    "f.grid(row=0,column=0,padx=10,pady=5)\n",
    "lbl=Label(f,text=\"输入需要转换的文本 : \")\n",
    "lbl.grid(row=1,column=0,padx=10,pady=2)\n",
    "e=Entry(f,width=80)\n",
    "e.grid(row=2,column=0,padx=10,pady=2)\n",
    "btn=Button(f,text=\"语音输出\",command=text2Speech)\n",
    "btn.grid(row=3,column=0,padx=20,pady=10)\n",
    "tts.mainloop()"
   ]
  },
  {
   "cell_type": "code",
   "execution_count": 6,
   "metadata": {},
   "outputs": [
    {
     "data": {
      "text/plain": [
       "'今天实况：28度 多云，湿度：56%，北风：1级。白天：29度,多云。 夜间：阴，22度，天气较热，建议您选择短袖上衣加七分裤的搭配，针织衫是进出空调房的必备单品。'"
      ]
     },
     "execution_count": 6,
     "metadata": {},
     "output_type": "execute_result"
    }
   ],
   "source": [
    "\"今天实况：28度 多云，湿度：56%，北风：1级。白天：29度,多云。 夜间：阴，22度，天气较热，建议您选择短袖上衣加七分裤的搭配，针织衫是进出空调房的必备单品。\""
   ]
  },
  {
   "cell_type": "code",
   "execution_count": null,
   "metadata": {},
   "outputs": [],
   "source": []
  }
 ],
 "metadata": {
  "kernelspec": {
   "display_name": "Python 3",
   "language": "python",
   "name": "python3"
  },
  "language_info": {
   "codemirror_mode": {
    "name": "ipython",
    "version": 3
   },
   "file_extension": ".py",
   "mimetype": "text/x-python",
   "name": "python",
   "nbconvert_exporter": "python",
   "pygments_lexer": "ipython3",
   "version": "3.7.6"
  }
 },
 "nbformat": 4,
 "nbformat_minor": 4
}

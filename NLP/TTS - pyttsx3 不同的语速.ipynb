{
 "cells": [
  {
   "cell_type": "code",
   "execution_count": 2,
   "metadata": {},
   "outputs": [],
   "source": [
    "import pyttsx3"
   ]
  },
  {
   "cell_type": "markdown",
   "metadata": {},
   "source": [
    "### python 3.8.3 ，Vs Code 运行通过 。 这里失败。。。 ### 升级Python后，成功了"
   ]
  },
  {
   "cell_type": "code",
   "execution_count": 3,
   "metadata": {},
   "outputs": [],
   "source": [
    "Teacher = pyttsx3.init()\n",
    "Teacher.say('Hello World! 你好，世界！')\n",
    "Teacher.runAndWait()"
   ]
  },
  {
   "cell_type": "code",
   "execution_count": 3,
   "metadata": {},
   "outputs": [],
   "source": [
    "msg1 = '''盼望着，盼望着，东风来了，春天的脚步近了...'''\n",
    "teacher1 = pyttsx3.init()\n",
    "teacher1.say(msg1)\n",
    "teacher1.runAndWait()"
   ]
  },
  {
   "cell_type": "code",
   "execution_count": 4,
   "metadata": {},
   "outputs": [],
   "source": [
    "# 降低语速\n",
    "msg = '''盼望着，盼望着，东风来了，春天的脚步近了...'''\n",
    "teacher = pyttsx3.init()\n",
    "rate = teacher.getProperty('rate')\n",
    "teacher.setProperty('rate', rate - 100)\n",
    "teacher.say(msg)\n",
    "teacher.runAndWait()"
   ]
  },
  {
   "cell_type": "code",
   "execution_count": 9,
   "metadata": {},
   "outputs": [],
   "source": [
    "# 提高语速\n",
    "msg = '''盼望着，盼望着，东风来了，春天的脚步近了...'''\n",
    "teacher = pyttsx3.init()\n",
    "rate = teacher.getProperty('rate')\n",
    "teacher.setProperty('rate', rate + 100)\n",
    "teacher.say(msg)\n",
    "teacher.runAndWait()"
   ]
  },
  {
   "cell_type": "code",
   "execution_count": 6,
   "metadata": {},
   "outputs": [
    {
     "name": "stdout",
     "output_type": "stream",
     "text": [
      "2\n"
     ]
    }
   ],
   "source": [
    "# 变换声音 \n",
    "# https://www.jianshu.com/p/0b4c9e9931f5\n",
    "import pyttsx3\n",
    "\n",
    "# msg = '''盼望着，盼望着，东风来了，春天的脚步近了...''' # 中文只有一种声音，可能是系统的事儿。 David 2020.6.24\n",
    "\n",
    "engine = pyttsx3.init()\n",
    "voices = engine.getProperty('voices')\n",
    "print(len(voices))\n",
    "for voice in voices:\n",
    "    engine.setProperty('voice', voice.id)\n",
    "    engine.say('I will always love you ')\n",
    "    engine.runAndWait()"
   ]
  },
  {
   "cell_type": "code",
   "execution_count": null,
   "metadata": {},
   "outputs": [],
   "source": []
  },
  {
   "cell_type": "code",
   "execution_count": null,
   "metadata": {},
   "outputs": [],
   "source": []
  }
 ],
 "metadata": {
  "kernelspec": {
   "display_name": "Python 3",
   "language": "python",
   "name": "python3"
  },
  "language_info": {
   "codemirror_mode": {
    "name": "ipython",
    "version": 3
   },
   "file_extension": ".py",
   "mimetype": "text/x-python",
   "name": "python",
   "nbconvert_exporter": "python",
   "pygments_lexer": "ipython3",
   "version": "3.8.3"
  }
 },
 "nbformat": 4,
 "nbformat_minor": 4
}
